{
 "cells": [
  {
   "cell_type": "code",
   "execution_count": 1,
   "metadata": {
    "collapsed": true
   },
   "outputs": [],
   "source": [
    "from __future__ import division, print_function\n",
    "import numpy\n",
    "from astropy import wcs\n",
    "from astropy.io import fits"
   ]
  },
  {
   "cell_type": "code",
   "execution_count": 4,
   "metadata": {
    "collapsed": false
   },
   "outputs": [
    {
     "name": "stdout",
     "output_type": "stream",
     "text": [
      "[[ 267.96547027  -73.73660749]\n",
      " [ 276.53931377  -71.97412809]\n",
      " [ 287.77080792  -69.67813884]]\n",
      "[[ 193.56818479  -67.18475231]\n",
      " [  25.31926459    8.3393    ]]\n"
     ]
    }
   ],
   "source": [
    "# Create a new WCS object.  The number of axes must be set\n",
    "# from the start\n",
    "w = wcs.WCS(naxis=2)\n",
    "\n",
    "# Set up an \"Airy's zenithal\" projection\n",
    "# Vector properties may be set with Python lists, or Numpy arrays\n",
    "w.wcs.crpix = [-234.75, 8.3393]\n",
    "w.wcs.cdelt = numpy.array([-0.066667, 0.066667])\n",
    "w.wcs.crval = [0, -90]\n",
    "w.wcs.ctype = [\"RA---AIR\", \"DEC--AIR\"]\n",
    "w.wcs.set_pv([(2, 1, 45.0)])\n",
    "\n",
    "#w.wcs.cd = numpy.array([.5,.1,.2,-.5]).reshape((2,2))\n",
    "\n",
    "# Some pixel coordinates of interest.\n",
    "pixcrd = numpy.array([[0, 0], [24, 38], [45, 98]], numpy.float_)\n",
    "\n",
    "# Convert pixel coordinates to world coordinates\n",
    "world = w.wcs_pix2world(pixcrd, 1)\n",
    "print(world)\n",
    "skycrd = numpy.array([[260,-60], [270., -72.]])\n",
    "sky = w.wcs_world2pix(skycrd, 1)\n",
    "print(sky)"
   ]
  },
  {
   "cell_type": "code",
   "execution_count": 5,
   "metadata": {
    "collapsed": false
   },
   "outputs": [
    {
     "data": {
      "text/plain": [
       "WCSAXES =                    2 / Number of coordinate axes                      \n",
       "CRPIX1  =              -234.75 / Pixel coordinate of reference point            \n",
       "CRPIX2  =               8.3393 / Pixel coordinate of reference point            \n",
       "CDELT1  =            -0.066667 / [deg] Coordinate increment at reference point  \n",
       "CDELT2  =             0.066667 / [deg] Coordinate increment at reference point  \n",
       "CUNIT1  = 'deg'                / Units of coordinate increment and value        \n",
       "CUNIT2  = 'deg'                / Units of coordinate increment and value        \n",
       "CTYPE1  = 'RA---AIR'           / Right ascension, Airy's zenithal projection    \n",
       "CTYPE2  = 'DEC--AIR'           / Declination, Airy's zenithal projection        \n",
       "CRVAL1  =                  0.0 / [deg] Coordinate value at reference point      \n",
       "CRVAL2  =                -90.0 / [deg] Coordinate value at reference point      \n",
       "PV2_1   =                 45.0 / AIR projection parameter                       \n",
       "LONPOLE =                180.0 / [deg] Native longitude of celestial pole       \n",
       "LATPOLE =                -90.0 / [deg] Native latitude of celestial pole        \n",
       "RADESYS = 'ICRS'               / Equatorial coordinate system                   "
      ]
     },
     "execution_count": 5,
     "metadata": {},
     "output_type": "execute_result"
    }
   ],
   "source": [
    "w.to_header()"
   ]
  },
  {
   "cell_type": "code",
   "execution_count": null,
   "metadata": {
    "collapsed": false
   },
   "outputs": [],
   "source": [
    "# Now to try it with a zenith projection"
   ]
  },
  {
   "cell_type": "code",
   "execution_count": 30,
   "metadata": {
    "collapsed": false
   },
   "outputs": [
    {
     "name": "stdout",
     "output_type": "stream",
     "text": [
      "[[ 66.31579067  81.50820536]\n",
      " [ 74.41230698  80.83054581]\n",
      " [ 85.72747182  80.03701257]]\n",
      "[[-3369.44211031  -668.9228315 ]\n",
      " [-3378.64391333 -1249.21826533]]\n"
     ]
    }
   ],
   "source": [
    "# Create a new WCS object.  The number of axes must be set\n",
    "# from the start\n",
    "w = wcs.WCS(naxis=2)\n",
    "\n",
    "# Vector properties may be set with Python lists, or Numpy arrays\n",
    "w.wcs.crpix = [-234.75, 8.3393]\n",
    "w.wcs.cdelt = numpy.array([-0.066667, 0.066667])\n",
    "w.wcs.crval = [0, 90]\n",
    "w.wcs.ctype = [\"RA---ZEA\", \"DEC--ZEA\"]\n",
    "#w.wcs.set_pv([(2, 1, 45.0)])\n",
    "\n",
    "w.wcs.pc = numpy.array([.5,.1,.2,-.5]).reshape((2,2))\n",
    "\n",
    "# Some pixel coordinates of interest.\n",
    "pixcrd = numpy.array([[0, 0], [24, 38], [45, 98]], numpy.float_)\n",
    "\n",
    "# Convert pixel coordinates to world coordinates\n",
    "world = w.wcs_pix2world(pixcrd, 1)\n",
    "print(world)\n",
    "skycrd = numpy.array([[260,-60], [270., -72.]])\n",
    "sky = w.wcs_world2pix(skycrd, 1)\n",
    "print(sky)"
   ]
  },
  {
   "cell_type": "code",
   "execution_count": 8,
   "metadata": {
    "collapsed": false
   },
   "outputs": [
    {
     "name": "stdout",
     "output_type": "stream",
     "text": [
      "[[ 269.79646233   79.55202681]\n",
      " [ 270.65675691   78.47973348]\n",
      " [ 271.83571824   77.53559389]]\n",
      "[[ 2217.84613947 -4316.24942171]\n",
      " [ 2311.79133709     8.3393    ]]\n"
     ]
    }
   ],
   "source": [
    "#WHY IS IT PV2_1?!?!?!?\n",
    "# Create a new WCS object.  The number of axes must be set\n",
    "# from the start\n",
    "w = wcs.WCS(naxis=2)\n",
    "\n",
    "# Vector properties may be set with Python lists, or Numpy arrays\n",
    "w.wcs.crpix = [-234.75, 8.3393]\n",
    "w.wcs.cdelt = numpy.array([-0.066667, 0.066667])\n",
    "w.wcs.crval = [0, 90]\n",
    "w.wcs.ctype = [\"RA---ZEA\", \"DEC--ZEA\"]\n",
    "w.wcs.set_pv([(2, 1, 45.0)])\n",
    "\n",
    "w.wcs.pc = numpy.array([-0.66667, 0, 0, 0.066667]).reshape((2,2))\n",
    "\n",
    "# Some pixel coordinates of interest.\n",
    "pixcrd = numpy.array([[0, 0], [24, 38], [45, 98]], numpy.float_)\n",
    "\n",
    "# Convert pixel coordinates to world coordinates\n",
    "world = w.wcs_pix2world(pixcrd, 1)\n",
    "print(world)\n",
    "skycrd = numpy.array([[260,-60], [270., -72.]])\n",
    "sky = w.wcs_world2pix(skycrd, 1)\n",
    "print(sky)"
   ]
  },
  {
   "cell_type": "code",
   "execution_count": 9,
   "metadata": {
    "collapsed": false
   },
   "outputs": [
    {
     "name": "stdout",
     "output_type": "stream",
     "text": [
      "WCS Keywords\n",
      "\n",
      "Number of WCS axes: 2\n",
      "CTYPE : 'RA---ZEA'  'DEC--ZEA'  \n",
      "CRVAL : 0.0  90.0  \n",
      "CRPIX : -234.75  8.3392999999999997  \n",
      "PC1_1 PC1_2  : -0.66666999999999998  0.0  \n",
      "PC2_1 PC2_2  : 0.0  0.066667000000000004  \n",
      "CDELT : -0.066667000000000004  0.066667000000000004  \n",
      "NAXIS    : 0 0\n"
     ]
    }
   ],
   "source": [
    "w.printwcs()"
   ]
  },
  {
   "cell_type": "code",
   "execution_count": 15,
   "metadata": {
    "collapsed": false
   },
   "outputs": [
    {
     "name": "stdout",
     "output_type": "stream",
     "text": [
      "[[ 269.79649333   79.59512683]\n",
      " [ 270.65665689   78.53774242]\n",
      " [ 271.83543884   77.6094307 ]]\n",
      "[[ -689.37108518     8.3393    ]\n",
      " [-1044.87106747 -4669.60933802]]\n"
     ]
    }
   ],
   "source": [
    "#WHY IS IT PV2_1?!?!?!?\n",
    "# Create a new WCS object.  The number of axes must be set\n",
    "# from the start\n",
    "w = wcs.WCS(naxis=2)\n",
    "\n",
    "# Vector properties may be set with Python lists, or Numpy arrays\n",
    "w.wcs.crpix = [-234.75, 8.3393]\n",
    "w.wcs.cdelt = numpy.array([-0.066667, 0.066667])\n",
    "w.wcs.crval = [0, 90]\n",
    "w.wcs.ctype = [\"RA---AZP\", \"DEC--AZP\"]\n",
    "w.wcs.set_pv([(2, 1, 45.0)])\n",
    "\n",
    "w.wcs.pc = numpy.array([-0.66667, 0, 0, 0.066667]).reshape((2,2))\n",
    "\n",
    "w.wcs.set_pv([(2,1,1.), (2,2,1.)])\n",
    "\n",
    "# Some pixel coordinates of interest.\n",
    "pixcrd = numpy.array([[0, 0], [24, 38], [45, 98]], numpy.float_)\n",
    "\n",
    "# Convert pixel coordinates to world coordinates\n",
    "world = w.wcs_pix2world(pixcrd, 1)\n",
    "print(world)\n",
    "skycrd = numpy.array([[90,70], [120., 50]])\n",
    "sky = w.wcs_world2pix(skycrd, 1)\n",
    "print(sky)"
   ]
  },
  {
   "cell_type": "code",
   "execution_count": 12,
   "metadata": {
    "collapsed": false
   },
   "outputs": [
    {
     "name": "stdout",
     "output_type": "stream",
     "text": [
      "WCS Keywords\n",
      "\n",
      "Number of WCS axes: 2\n",
      "CTYPE : 'RA---AZP'  'DEC--AZP'  \n",
      "CRVAL : 0.0  90.0  \n",
      "CRPIX : -234.75  8.3392999999999997  \n",
      "PC1_1 PC1_2  : 1.0  0.0  \n",
      "PC2_1 PC2_2  : 0.0  1.0  \n",
      "CDELT : -0.066667000000000004  0.066667000000000004  \n",
      "NAXIS    : 0 0\n"
     ]
    }
   ],
   "source": [
    "w.printwcs()"
   ]
  },
  {
   "cell_type": "code",
   "execution_count": null,
   "metadata": {
    "collapsed": true
   },
   "outputs": [],
   "source": [
    "#Next up, can I add some SIP parameters to this?"
   ]
  }
 ],
 "metadata": {
  "kernelspec": {
   "display_name": "Python [conda root]",
   "language": "python",
   "name": "conda-root-py"
  },
  "language_info": {
   "codemirror_mode": {
    "name": "ipython",
    "version": 2
   },
   "file_extension": ".py",
   "mimetype": "text/x-python",
   "name": "python",
   "nbconvert_exporter": "python",
   "pygments_lexer": "ipython2",
   "version": "2.7.12"
  }
 },
 "nbformat": 4,
 "nbformat_minor": 1
}
