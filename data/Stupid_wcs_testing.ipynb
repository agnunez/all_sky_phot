{
 "cells": [
  {
   "cell_type": "code",
   "execution_count": 1,
   "metadata": {
    "collapsed": true
   },
   "outputs": [],
   "source": [
    "from __future__ import division, print_function\n",
    "import numpy\n",
    "from astropy import wcs\n",
    "from astropy.io import fits\n",
    "import numpy as np"
   ]
  },
  {
   "cell_type": "code",
   "execution_count": 2,
   "metadata": {
    "collapsed": false
   },
   "outputs": [
    {
     "name": "stdout",
     "output_type": "stream",
     "text": [
      "[[ 267.96547027  -73.73660749]\n",
      " [ 276.53931377  -71.97412809]\n",
      " [ 287.77080792  -69.67813884]]\n",
      "[[ 193.56818479  -67.18475231]\n",
      " [  25.31926459    8.3393    ]]\n"
     ]
    }
   ],
   "source": [
    "# Create a new WCS object.  The number of axes must be set\n",
    "# from the start\n",
    "w = wcs.WCS(naxis=2)\n",
    "\n",
    "# Set up an \"Airy's zenithal\" projection\n",
    "# Vector properties may be set with Python lists, or Numpy arrays\n",
    "w.wcs.crpix = [-234.75, 8.3393]\n",
    "w.wcs.cdelt = numpy.array([-0.066667, 0.066667])\n",
    "w.wcs.crval = [0, -90]\n",
    "w.wcs.ctype = [\"RA---AIR\", \"DEC--AIR\"]\n",
    "w.wcs.set_pv([(2, 1, 45.0)])\n",
    "\n",
    "#w.wcs.cd = numpy.array([.5,.1,.2,-.5]).reshape((2,2))\n",
    "\n",
    "# Some pixel coordinates of interest.\n",
    "pixcrd = numpy.array([[0, 0], [24, 38], [45, 98]], numpy.float_)\n",
    "\n",
    "# Convert pixel coordinates to world coordinates\n",
    "world = w.wcs_pix2world(pixcrd, 1)\n",
    "print(world)\n",
    "skycrd = numpy.array([[260,-60], [270., -72.]])\n",
    "sky = w.wcs_world2pix(skycrd, 1)\n",
    "print(sky)"
   ]
  },
  {
   "cell_type": "code",
   "execution_count": 3,
   "metadata": {
    "collapsed": false
   },
   "outputs": [
    {
     "data": {
      "text/plain": [
       "WCSAXES =                    2 / Number of coordinate axes                      \n",
       "CRPIX1  =              -234.75 / Pixel coordinate of reference point            \n",
       "CRPIX2  =               8.3393 / Pixel coordinate of reference point            \n",
       "CDELT1  =            -0.066667 / [deg] Coordinate increment at reference point  \n",
       "CDELT2  =             0.066667 / [deg] Coordinate increment at reference point  \n",
       "CUNIT1  = 'deg'                / Units of coordinate increment and value        \n",
       "CUNIT2  = 'deg'                / Units of coordinate increment and value        \n",
       "CTYPE1  = 'RA---AIR'           / Right ascension, Airy's zenithal projection    \n",
       "CTYPE2  = 'DEC--AIR'           / Declination, Airy's zenithal projection        \n",
       "CRVAL1  =                  0.0 / [deg] Coordinate value at reference point      \n",
       "CRVAL2  =                -90.0 / [deg] Coordinate value at reference point      \n",
       "PV2_1   =                 45.0 / AIR projection parameter                       \n",
       "LONPOLE =                180.0 / [deg] Native longitude of celestial pole       \n",
       "LATPOLE =                -90.0 / [deg] Native latitude of celestial pole        \n",
       "RADESYS = 'ICRS'               / Equatorial coordinate system                   "
      ]
     },
     "execution_count": 3,
     "metadata": {},
     "output_type": "execute_result"
    }
   ],
   "source": [
    "w.to_header()"
   ]
  },
  {
   "cell_type": "code",
   "execution_count": 4,
   "metadata": {
    "collapsed": false
   },
   "outputs": [],
   "source": [
    "# Now to try it with a zenith projection"
   ]
  },
  {
   "cell_type": "code",
   "execution_count": 5,
   "metadata": {
    "collapsed": false
   },
   "outputs": [
    {
     "name": "stdout",
     "output_type": "stream",
     "text": [
      "[[ 66.31579067  81.50820536]\n",
      " [ 74.41230698  80.83054581]\n",
      " [ 85.72747182  80.03701257]]\n",
      "[[-3369.44211031  -668.9228315 ]\n",
      " [-3378.64391333 -1249.21826533]]\n"
     ]
    }
   ],
   "source": [
    "# Create a new WCS object.  The number of axes must be set\n",
    "# from the start\n",
    "w = wcs.WCS(naxis=2)\n",
    "\n",
    "# Vector properties may be set with Python lists, or Numpy arrays\n",
    "w.wcs.crpix = [-234.75, 8.3393]\n",
    "w.wcs.cdelt = numpy.array([-0.066667, 0.066667])\n",
    "w.wcs.crval = [0, 90]\n",
    "w.wcs.ctype = [\"RA---ZEA\", \"DEC--ZEA\"]\n",
    "#w.wcs.set_pv([(2, 1, 45.0)])\n",
    "\n",
    "w.wcs.pc = numpy.array([.5,.1,.2,-.5]).reshape((2,2))\n",
    "\n",
    "# Some pixel coordinates of interest.\n",
    "pixcrd = numpy.array([[0, 0], [24, 38], [45, 98]], numpy.float_)\n",
    "\n",
    "# Convert pixel coordinates to world coordinates\n",
    "world = w.wcs_pix2world(pixcrd, 1)\n",
    "print(world)\n",
    "skycrd = numpy.array([[260,-60], [270., -72.]])\n",
    "sky = w.wcs_world2pix(skycrd, 1)\n",
    "print(sky)"
   ]
  },
  {
   "cell_type": "code",
   "execution_count": 6,
   "metadata": {
    "collapsed": false
   },
   "outputs": [
    {
     "name": "stdout",
     "output_type": "stream",
     "text": [
      "[[ 269.79646233   79.55202681]\n",
      " [ 270.65675691   78.47973348]\n",
      " [ 271.83571824   77.53559389]]\n",
      "[[ 2217.84613947 -4316.24942171]\n",
      " [ 2311.79133709     8.3393    ]]\n"
     ]
    }
   ],
   "source": [
    "#WHY IS IT PV2_1?!?!?!?\n",
    "# Create a new WCS object.  The number of axes must be set\n",
    "# from the start\n",
    "w = wcs.WCS(naxis=2)\n",
    "\n",
    "# Vector properties may be set with Python lists, or Numpy arrays\n",
    "w.wcs.crpix = [-234.75, 8.3393]\n",
    "w.wcs.cdelt = numpy.array([-0.066667, 0.066667])\n",
    "w.wcs.crval = [0, 90]\n",
    "w.wcs.ctype = [\"RA---ZEA\", \"DEC--ZEA\"]\n",
    "w.wcs.set_pv([(2, 1, 45.0)])\n",
    "\n",
    "w.wcs.pc = numpy.array([-0.66667, 0, 0, 0.066667]).reshape((2,2))\n",
    "\n",
    "# Some pixel coordinates of interest.\n",
    "pixcrd = numpy.array([[0, 0], [24, 38], [45, 98]], numpy.float_)\n",
    "\n",
    "# Convert pixel coordinates to world coordinates\n",
    "world = w.wcs_pix2world(pixcrd, 1)\n",
    "print(world)\n",
    "skycrd = numpy.array([[260,-60], [270., -72.]])\n",
    "sky = w.wcs_world2pix(skycrd, 1)\n",
    "print(sky)"
   ]
  },
  {
   "cell_type": "code",
   "execution_count": 7,
   "metadata": {
    "collapsed": false
   },
   "outputs": [
    {
     "name": "stdout",
     "output_type": "stream",
     "text": [
      "WCS Keywords\n",
      "\n",
      "Number of WCS axes: 2\n",
      "CTYPE : 'RA---ZEA'  'DEC--ZEA'  \n",
      "CRVAL : 0.0  90.0  \n",
      "CRPIX : -234.75  8.3392999999999997  \n",
      "PC1_1 PC1_2  : -0.66666999999999998  0.0  \n",
      "PC2_1 PC2_2  : 0.0  0.066667000000000004  \n",
      "CDELT : -0.066667000000000004  0.066667000000000004  \n",
      "NAXIS    : 0 0\n"
     ]
    }
   ],
   "source": [
    "w.printwcs()"
   ]
  },
  {
   "cell_type": "code",
   "execution_count": 8,
   "metadata": {
    "collapsed": false
   },
   "outputs": [
    {
     "name": "stdout",
     "output_type": "stream",
     "text": [
      "[[ 269.82373102   79.51175225]\n",
      " [ 270.56877439   78.42613831]\n",
      " [ 271.58991462   77.46948555]]\n",
      "[[ -676.24139054     8.3393    ]\n",
      " [ -953.13311853 -4780.88149017]]\n"
     ]
    }
   ],
   "source": [
    "#WHY IS IT PV2_1?!?!?!?\n",
    "# Create a new WCS object.  The number of axes must be set\n",
    "# from the start\n",
    "w = wcs.WCS(naxis=2)\n",
    "\n",
    "# Vector properties may be set with Python lists, or Numpy arrays\n",
    "w.wcs.crpix = [-234.75, 8.3393]\n",
    "w.wcs.cdelt = numpy.array([-0.066667, 0.066667])\n",
    "w.wcs.crval = [0, 90]\n",
    "w.wcs.ctype = [\"RA---AZP\", \"DEC--AZP\"]\n",
    "\n",
    "w.wcs.pc = numpy.array([-0.66667, 0, 0, 0.066667]).reshape((2,2))\n",
    "w.wcs.set_pv([(2,1,45.), (2,2,30.)])\n",
    "\n",
    "# Some pixel coordinates of interest.\n",
    "pixcrd = numpy.array([[0, 0], [24, 38], [45, 98]], numpy.float_)\n",
    "\n",
    "# Convert pixel coordinates to world coordinates\n",
    "world = w.wcs_pix2world(pixcrd, 1)\n",
    "print(world)\n",
    "skycrd = numpy.array([[90,70], [120., 50]])\n",
    "sky = w.wcs_world2pix(skycrd, 1)\n",
    "print(sky)"
   ]
  },
  {
   "cell_type": "code",
   "execution_count": 9,
   "metadata": {
    "collapsed": false
   },
   "outputs": [
    {
     "name": "stdout",
     "output_type": "stream",
     "text": [
      "WCS Keywords\n",
      "\n",
      "Number of WCS axes: 2\n",
      "CTYPE : 'RA---AZP'  'DEC--AZP'  \n",
      "CRVAL : 0.0  90.0  \n",
      "CRPIX : -234.75  8.3392999999999997  \n",
      "PC1_1 PC1_2  : -0.66666999999999998  0.0  \n",
      "PC2_1 PC2_2  : 0.0  0.066667000000000004  \n",
      "CDELT : -0.066667000000000004  0.066667000000000004  \n",
      "NAXIS    : 0 0\n"
     ]
    },
    {
     "data": {
      "text/plain": [
       "WCSAXES =                    2 / Number of coordinate axes                      \n",
       "CRPIX1  =              -234.75 / Pixel coordinate of reference point            \n",
       "CRPIX2  =               8.3393 / Pixel coordinate of reference point            \n",
       "PC1_1   =             -0.66667 / Coordinate transformation matrix element       \n",
       "PC2_2   =             0.066667 / Coordinate transformation matrix element       \n",
       "CDELT1  =            -0.066667 / [deg] Coordinate increment at reference point  \n",
       "CDELT2  =             0.066667 / [deg] Coordinate increment at reference point  \n",
       "CUNIT1  = 'deg'                / Units of coordinate increment and value        \n",
       "CUNIT2  = 'deg'                / Units of coordinate increment and value        \n",
       "CTYPE1  = 'RA---AZP'           / Right ascension, zenithal/azimuthal perspective\n",
       "CTYPE2  = 'DEC--AZP'           / Declination, zenithal/azimuthal perspective pro\n",
       "CRVAL1  =                  0.0 / [deg] Coordinate value at reference point      \n",
       "CRVAL2  =                 90.0 / [deg] Coordinate value at reference point      \n",
       "PV2_1   =                 45.0 / AZP projection parameter                       \n",
       "PV2_2   =                 30.0 / AZP projection parameter                       \n",
       "LONPOLE =                  0.0 / [deg] Native longitude of celestial pole       \n",
       "LATPOLE =                 90.0 / [deg] Native latitude of celestial pole        \n",
       "RADESYS = 'ICRS'               / Equatorial coordinate system                   "
      ]
     },
     "execution_count": 9,
     "metadata": {},
     "output_type": "execute_result"
    }
   ],
   "source": [
    "w.printwcs()\n",
    "w.to_header()"
   ]
  },
  {
   "cell_type": "code",
   "execution_count": 59,
   "metadata": {
    "collapsed": false
   },
   "outputs": [],
   "source": [
    "#Next up, can I add some SIP parameters to this?\n",
    "w = wcs.WCS(naxis=2)\n",
    "\n",
    "# Vector properties may be set with Python lists, or Numpy arrays\n",
    "w.wcs.crpix = [-234.75, 8.3393]\n",
    "w.wcs.cdelt = numpy.array([-0.066667, 0.066667])\n",
    "w.wcs.crval = [0, 90]\n",
    "w.wcs.ctype = [\"RA---AZP-SIP\", \"DEC--AZP-SIP\"]\n",
    "\n",
    "w.wcs.pc = numpy.array([-0.66667, 0, 0, 0.066667]).reshape((2,2))\n",
    "w.wcs.set_pv([(2,1,45.), (2,2,30.)])\n",
    "\n",
    "a_order = 2\n",
    "b_order = 2\n",
    "\n",
    "a = np.random.randn((a_order+1)**2).reshape((a_order+1,a_order+1))*1e-3\n",
    "b = np.random.randn((b_order+1)**2).reshape((b_order+1,b_order+1))*1e-2\n",
    "\n"
   ]
  },
  {
   "cell_type": "code",
   "execution_count": 60,
   "metadata": {
    "collapsed": false
   },
   "outputs": [
    {
     "name": "stdout",
     "output_type": "stream",
     "text": [
      "[[ 269.82373102   79.51175225]\n",
      " [ 270.56877439   78.42613831]\n",
      " [ 271.58991462   77.46948555]]\n",
      "[[ -676.24139054     8.3393    ]\n",
      " [ -953.13311853 -4780.88149017]]\n"
     ]
    }
   ],
   "source": [
    "# Some pixel coordinates of interest.\n",
    "pixcrd = numpy.array([[0, 0], [24, 38], [45, 98]], numpy.float_)\n",
    "\n",
    "# Convert pixel coordinates to world coordinates\n",
    "world = w.all_pix2world(pixcrd, 1)\n",
    "print(world)\n",
    "skycrd = numpy.array([[90,70], [120., 50]])\n",
    "sky = w.all_world2pix(skycrd, 1)\n",
    "print(sky)"
   ]
  },
  {
   "cell_type": "code",
   "execution_count": 61,
   "metadata": {
    "collapsed": false
   },
   "outputs": [
    {
     "name": "stdout",
     "output_type": "stream",
     "text": [
      "[[ 269.81413315   79.51344924]\n",
      " [ 270.56357164   78.42720365]\n",
      " [ 271.58766422   77.46998063]]\n",
      "[[ -675.46814472    20.30112299]\n",
      " [ -941.09371261 -4678.19498079]]\n"
     ]
    }
   ],
   "source": [
    "# Add in the SIP\n",
    "sip = wcs.Sip(a*1e-3,b*1e-3,a*0,b*0, [100,200])\n",
    "w.sip = sip\n",
    "# Convert pixel coordinates to world coordinates\n",
    "world = w.all_pix2world(pixcrd, 1)\n",
    "print(world)\n",
    "skycrd = numpy.array([[90,70], [120., 50]])\n",
    "sky = w.all_world2pix(skycrd, 1)\n",
    "print(sky)"
   ]
  },
  {
   "cell_type": "code",
   "execution_count": 62,
   "metadata": {
    "collapsed": false
   },
   "outputs": [
    {
     "data": {
      "text/plain": [
       "array([[ 0.01443278,  0.00188619, -0.00094527],\n",
       "       [ 0.01303259, -0.01215604,  0.01686388],\n",
       "       [-0.01700657, -0.01680368, -0.01909226]])"
      ]
     },
     "execution_count": 62,
     "metadata": {},
     "output_type": "execute_result"
    }
   ],
   "source": [
    "b"
   ]
  },
  {
   "cell_type": "code",
   "execution_count": 63,
   "metadata": {
    "collapsed": false
   },
   "outputs": [
    {
     "name": "stdout",
     "output_type": "stream",
     "text": [
      "WCS Keywords\n",
      "\n",
      "Number of WCS axes: 2\n",
      "CTYPE : 'RA---AZP-SIP'  'DEC--AZP-SIP'  \n",
      "CRVAL : 0.0  90.0  \n",
      "CRPIX : -234.75  8.3392999999999997  \n",
      "PC1_1 PC1_2  : -0.66666999999999998  0.0  \n",
      "PC2_1 PC2_2  : 0.0  0.066667000000000004  \n",
      "CDELT : -0.066667000000000004  0.066667000000000004  \n",
      "NAXIS    : 0 0\n"
     ]
    },
    {
     "data": {
      "text/plain": [
       "WCSAXES =                    2 / Number of coordinate axes                      \n",
       "CRPIX1  =              -234.75 / Pixel coordinate of reference point            \n",
       "CRPIX2  =               8.3393 / Pixel coordinate of reference point            \n",
       "PC1_1   =             -0.66667 / Coordinate transformation matrix element       \n",
       "PC2_2   =             0.066667 / Coordinate transformation matrix element       \n",
       "CDELT1  =            -0.066667 / [deg] Coordinate increment at reference point  \n",
       "CDELT2  =             0.066667 / [deg] Coordinate increment at reference point  \n",
       "CUNIT1  = 'deg'                / Units of coordinate increment and value        \n",
       "CUNIT2  = 'deg'                / Units of coordinate increment and value        \n",
       "CTYPE1  = 'RA---AZP-SIP'       / TAN (gnomonic) projection + SIP distortions    \n",
       "CTYPE2  = 'DEC--AZP-SIP'       / TAN (gnomonic) projection + SIP distortions    \n",
       "CRVAL1  =                  0.0 / [deg] Coordinate value at reference point      \n",
       "CRVAL2  =                 90.0 / [deg] Coordinate value at reference point      \n",
       "PV2_1   =                 45.0 / AZP projection parameter                       \n",
       "PV2_2   =                 30.0 / AZP projection parameter                       \n",
       "LONPOLE =                  0.0 / [deg] Native longitude of celestial pole       \n",
       "LATPOLE =                 90.0 / [deg] Native latitude of celestial pole        \n",
       "RADESYS = 'ICRS'               / Equatorial coordinate system                   \n",
       "A_1_1   = -7.4557977134821E-07                                                  \n",
       "A_1_0   = 2.10981270191827E-07                                                  \n",
       "B_1_0   = 1.30325883983053E-05                                                  \n",
       "B_1_1   = -1.2156037496553E-05                                                  \n",
       "B_ORDER =                    2                                                  \n",
       "B_2_0   = -1.7006569259106E-05                                                  \n",
       "BP_ORDER=                    2                                                  \n",
       "A_0_0   = -4.5776080689980E-07                                                  \n",
       "A_0_1   = 1.24041625887879E-07                                                  \n",
       "A_0_2   = -2.9681367430204E-07                                                  \n",
       "A_2_0   = -1.0968268250584E-06                                                  \n",
       "A_ORDER =                    2                                                  \n",
       "AP_ORDER=                    2                                                  \n",
       "B_0_2   = -9.4526973182940E-07                                                  \n",
       "B_0_1   = 1.88618990393238E-06                                                  \n",
       "B_0_0   = 1.44327799762996E-05                                                  "
      ]
     },
     "execution_count": 63,
     "metadata": {},
     "output_type": "execute_result"
    }
   ],
   "source": [
    "w.printwcs()\n",
    "w.to_header(relax=True)"
   ]
  },
  {
   "cell_type": "code",
   "execution_count": 64,
   "metadata": {
    "collapsed": false
   },
   "outputs": [
    {
     "name": "stdout",
     "output_type": "stream",
     "text": [
      "[[ 269.63037392   79.53811956]\n",
      " [ 270.33407538   78.4623484 ]\n",
      " [ 271.30426064   77.51949119]]\n",
      "[[ -674.22160986    39.58171283]\n",
      " [ -875.54736331 -4213.53379534]]\n"
     ]
    }
   ],
   "source": [
    "# Add in the SIP\n",
    "# what does the sim crval do? Does to something apparently!\n",
    "sip = wcs.Sip(a*1e-2,b*1e-2,a*0,b*0, [-234.75, 8.3393])\n",
    "w.sip = sip\n",
    "# Convert pixel coordinates to world coordinates\n",
    "world = w.all_pix2world(pixcrd, 1)\n",
    "print(world)\n",
    "skycrd = numpy.array([[90,70], [120., 50]])\n",
    "sky = w.all_world2pix(skycrd, 1)\n",
    "print(sky)"
   ]
  },
  {
   "cell_type": "code",
   "execution_count": 65,
   "metadata": {
    "collapsed": false
   },
   "outputs": [
    {
     "name": "stdout",
     "output_type": "stream",
     "text": [
      "WCS Keywords\n",
      "\n",
      "Number of WCS axes: 2\n",
      "CTYPE : 'RA---AZP-SIP'  'DEC--AZP-SIP'  \n",
      "CRVAL : 0.0  90.0  \n",
      "CRPIX : -234.75  8.3392999999999997  \n",
      "PC1_1 PC1_2  : -0.66666999999999998  0.0  \n",
      "PC2_1 PC2_2  : 0.0  0.066667000000000004  \n",
      "CDELT : -0.066667000000000004  0.066667000000000004  \n",
      "NAXIS    : 0 0\n"
     ]
    },
    {
     "data": {
      "text/plain": [
       "WCSAXES =                    2 / Number of coordinate axes                      \n",
       "CRPIX1  =              -234.75 / Pixel coordinate of reference point            \n",
       "CRPIX2  =               8.3393 / Pixel coordinate of reference point            \n",
       "PC1_1   =             -0.66667 / Coordinate transformation matrix element       \n",
       "PC2_2   =             0.066667 / Coordinate transformation matrix element       \n",
       "CDELT1  =            -0.066667 / [deg] Coordinate increment at reference point  \n",
       "CDELT2  =             0.066667 / [deg] Coordinate increment at reference point  \n",
       "CUNIT1  = 'deg'                / Units of coordinate increment and value        \n",
       "CUNIT2  = 'deg'                / Units of coordinate increment and value        \n",
       "CTYPE1  = 'RA---AZP-SIP'       / TAN (gnomonic) projection + SIP distortions    \n",
       "CTYPE2  = 'DEC--AZP-SIP'       / TAN (gnomonic) projection + SIP distortions    \n",
       "CRVAL1  =                  0.0 / [deg] Coordinate value at reference point      \n",
       "CRVAL2  =                 90.0 / [deg] Coordinate value at reference point      \n",
       "PV2_1   =                 45.0 / AZP projection parameter                       \n",
       "PV2_2   =                 30.0 / AZP projection parameter                       \n",
       "LONPOLE =                  0.0 / [deg] Native longitude of celestial pole       \n",
       "LATPOLE =                 90.0 / [deg] Native latitude of celestial pole        \n",
       "RADESYS = 'ICRS'               / Equatorial coordinate system                   \n",
       "A_1_1   = -7.4557977134821E-06                                                  \n",
       "A_1_0   = 2.10981270191827E-06                                                  \n",
       "B_1_0   = 0.000130325883983053                                                  \n",
       "B_1_1   = -0.00012156037496553                                                  \n",
       "B_ORDER =                    2                                                  \n",
       "B_2_0   = -0.00017006569259106                                                  \n",
       "BP_ORDER=                    2                                                  \n",
       "A_0_0   = -4.5776080689980E-06                                                  \n",
       "A_0_1   = 1.24041625887879E-06                                                  \n",
       "A_0_2   = -2.9681367430204E-06                                                  \n",
       "A_2_0   = -1.0968268250584E-05                                                  \n",
       "A_ORDER =                    2                                                  \n",
       "AP_ORDER=                    2                                                  \n",
       "B_0_2   = -9.4526973182940E-06                                                  \n",
       "B_0_1   = 1.88618990393238E-05                                                  \n",
       "B_0_0   = 0.000144327799762996                                                  "
      ]
     },
     "execution_count": 65,
     "metadata": {},
     "output_type": "execute_result"
    }
   ],
   "source": [
    "w.printwcs()\n",
    "w.to_header(relax=True)"
   ]
  },
  {
   "cell_type": "code",
   "execution_count": 66,
   "metadata": {
    "collapsed": false
   },
   "outputs": [
    {
     "data": {
      "text/plain": [
       "array([-234.75  ,    8.3393])"
      ]
     },
     "execution_count": 66,
     "metadata": {},
     "output_type": "execute_result"
    }
   ],
   "source": [
    "w.sip.crpix"
   ]
  },
  {
   "cell_type": "code",
   "execution_count": 67,
   "metadata": {
    "collapsed": true
   },
   "outputs": [],
   "source": [
    "# OK, I suspect that the SIP CRPIX would get lost if I dumped to a header and back?\n",
    "sip1 = wcs.Sip(a,b,a*0,b*0, [0, 0])\n",
    "sip2 =  wcs.Sip(a,b,a*0,b*0, w.wcs.crpix)"
   ]
  },
  {
   "cell_type": "code",
   "execution_count": 68,
   "metadata": {
    "collapsed": true
   },
   "outputs": [],
   "source": [
    "w.sip = sip1\n",
    "header1 = w.to_header(relax=True)\n",
    "w.sip = sip2\n",
    "header2 = w.to_header(relax=True)"
   ]
  },
  {
   "cell_type": "code",
   "execution_count": 69,
   "metadata": {
    "collapsed": false
   },
   "outputs": [
    {
     "data": {
      "text/plain": [
       "True"
      ]
     },
     "execution_count": 69,
     "metadata": {},
     "output_type": "execute_result"
    }
   ],
   "source": [
    "header1 == header2"
   ]
  },
  {
   "cell_type": "code",
   "execution_count": 70,
   "metadata": {
    "collapsed": false
   },
   "outputs": [
    {
     "name": "stderr",
     "output_type": "stream",
     "text": [
      "WARNING: FITSFixedWarning: Removed redundant SCAMP distortion parameters because SIP parameters are also present [astropy.wcs.wcs]\n"
     ]
    }
   ],
   "source": [
    "w1_recover = wcs.WCS(header1, relax=True)\n",
    "w2_recover = wcs.WCS(header2, relax=True)"
   ]
  },
  {
   "cell_type": "code",
   "execution_count": 71,
   "metadata": {
    "collapsed": false
   },
   "outputs": [
    {
     "data": {
      "text/plain": [
       "<astropy.wcs.Sip at 0x107e9e7a0>"
      ]
     },
     "execution_count": 71,
     "metadata": {},
     "output_type": "execute_result"
    }
   ],
   "source": [
    "w1_recover.sip"
   ]
  },
  {
   "cell_type": "code",
   "execution_count": 72,
   "metadata": {
    "collapsed": false
   },
   "outputs": [
    {
     "data": {
      "text/plain": [
       "WCSAXES =                    2 / Number of coordinate axes                      \n",
       "CRPIX1  =              -234.75 / Pixel coordinate of reference point            \n",
       "CRPIX2  =               8.3393 / Pixel coordinate of reference point            \n",
       "PC1_1   =             -0.66667 / Coordinate transformation matrix element       \n",
       "PC2_2   =             0.066667 / Coordinate transformation matrix element       \n",
       "CDELT1  =            -0.066667 / [deg] Coordinate increment at reference point  \n",
       "CDELT2  =             0.066667 / [deg] Coordinate increment at reference point  \n",
       "CUNIT1  = 'deg'                / Units of coordinate increment and value        \n",
       "CUNIT2  = 'deg'                / Units of coordinate increment and value        \n",
       "CTYPE1  = 'RA---AZP-SIP'       / TAN (gnomonic) projection + SIP distortions    \n",
       "CTYPE2  = 'DEC--AZP-SIP'       / TAN (gnomonic) projection + SIP distortions    \n",
       "CRVAL1  =                  0.0 / [deg] Coordinate value at reference point      \n",
       "CRVAL2  =                 90.0 / [deg] Coordinate value at reference point      \n",
       "PV2_1   =                 45.0 / AZP projection parameter                       \n",
       "PV2_2   =                 30.0 / AZP projection parameter                       \n",
       "LONPOLE =                  0.0 / [deg] Native longitude of celestial pole       \n",
       "LATPOLE =                 90.0 / [deg] Native latitude of celestial pole        \n",
       "RADESYS = 'ICRS'               / Equatorial coordinate system                   \n",
       "A_1_1   = -0.00074557977134821                                                  \n",
       "A_1_0   = 0.000210981270191827                                                  \n",
       "B_1_0   =  0.01303258839830534                                                  \n",
       "B_1_1   =  -0.0121560374965538                                                  \n",
       "B_ORDER =                    2                                                  \n",
       "B_2_0   = -0.01700656925910667                                                  \n",
       "BP_ORDER=                    2                                                  \n",
       "A_0_0   = -0.00045776080689980                                                  \n",
       "A_0_1   = 0.000124041625887879                                                  \n",
       "A_0_2   = -0.00029681367430204                                                  \n",
       "A_2_0   = -0.00109682682505846                                                  \n",
       "A_ORDER =                    2                                                  \n",
       "AP_ORDER=                    2                                                  \n",
       "B_0_2   = -0.00094526973182940                                                  \n",
       "B_0_1   = 0.001886189903932387                                                  \n",
       "B_0_0   =  0.01443277997629962                                                  "
      ]
     },
     "execution_count": 72,
     "metadata": {},
     "output_type": "execute_result"
    }
   ],
   "source": [
    "header1"
   ]
  },
  {
   "cell_type": "code",
   "execution_count": 52,
   "metadata": {
    "collapsed": false
   },
   "outputs": [
    {
     "data": {
      "text/plain": [
       "array([[-0.00029651,  0.00018939],\n",
       "       [-0.0002286 , -0.00011565]])"
      ]
     },
     "execution_count": 52,
     "metadata": {},
     "output_type": "execute_result"
    }
   ],
   "source": [
    "w.sip.a"
   ]
  },
  {
   "cell_type": "code",
   "execution_count": null,
   "metadata": {
    "collapsed": false
   },
   "outputs": [],
   "source": []
  },
  {
   "cell_type": "code",
   "execution_count": null,
   "metadata": {
    "collapsed": true
   },
   "outputs": [],
   "source": [
    "# Ah, looks like the SIP matrix always has some 0 or ignired values?\n",
    "# and order has to be greater than 1?\n",
    "# And the ap, bp terms don't seem to get used?"
   ]
  }
 ],
 "metadata": {
  "kernelspec": {
   "display_name": "Python [conda root]",
   "language": "python",
   "name": "conda-root-py"
  },
  "language_info": {
   "codemirror_mode": {
    "name": "ipython",
    "version": 2
   },
   "file_extension": ".py",
   "mimetype": "text/x-python",
   "name": "python",
   "nbconvert_exporter": "python",
   "pygments_lexer": "ipython2",
   "version": "2.7.12"
  }
 },
 "nbformat": 4,
 "nbformat_minor": 1
}
