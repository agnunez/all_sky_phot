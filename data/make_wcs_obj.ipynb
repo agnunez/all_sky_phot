{
 "cells": [
  {
   "cell_type": "code",
   "execution_count": 24,
   "metadata": {
    "collapsed": false
   },
   "outputs": [],
   "source": [
    "%matplotlib inline\n",
    "from __future__ import division, print_function\n",
    "import matplotlib.pylab as plt\n",
    "import numpy\n",
    "from astropy import wcs\n",
    "from astropy.io import fits\n",
    "from astropy.wcs import Sip\n",
    "import numpy as np"
   ]
  },
  {
   "cell_type": "code",
   "execution_count": 7,
   "metadata": {
    "collapsed": true
   },
   "outputs": [],
   "source": [
    "w = wcs.WCS(naxis=2)\n"
   ]
  },
  {
   "cell_type": "code",
   "execution_count": 8,
   "metadata": {
    "collapsed": true
   },
   "outputs": [],
   "source": [
    "# OMFG, you can't write WCS as ALT-AZ! \n",
    "w.wcs.crpix = [-234.75, 8.3393]\n",
    "w.wcs.cdelt = numpy.array([-0.066667, 0.066667])\n",
    "w.wcs.crval = [0, -90]\n",
    "w.wcs.ctype = [\"RA---TAN-SIP\", \"DEC--TAN-SIP\"]\n"
   ]
  },
  {
   "cell_type": "code",
   "execution_count": null,
   "metadata": {
    "collapsed": false
   },
   "outputs": [],
   "source": []
  },
  {
   "cell_type": "code",
   "execution_count": null,
   "metadata": {
    "collapsed": false
   },
   "outputs": [],
   "source": []
  },
  {
   "cell_type": "code",
   "execution_count": 10,
   "metadata": {
    "collapsed": false
   },
   "outputs": [
    {
     "name": "stdout",
     "output_type": "stream",
     "text": [
      "[[ 267.96547027  -74.71339959]\n",
      " [ 276.53931377  -73.14096583]\n",
      " [ 287.77080792  -71.12879   ]]\n"
     ]
    }
   ],
   "source": [
    "pixcrd = numpy.array([[0, 0], [24, 38], [45, 98]], numpy.float_)\n",
    "world = w.all_pix2world(pixcrd, 1)\n",
    "print(world)\n"
   ]
  },
  {
   "cell_type": "code",
   "execution_count": 11,
   "metadata": {
    "collapsed": false
   },
   "outputs": [
    {
     "data": {
      "text/plain": [
       "WCSAXES =                    2 / Number of coordinate axes                      \n",
       "CRPIX1  =              -234.75 / Pixel coordinate of reference point            \n",
       "CRPIX2  =               8.3393 / Pixel coordinate of reference point            \n",
       "CDELT1  =            -0.066667 / [deg] Coordinate increment at reference point  \n",
       "CDELT2  =             0.066667 / [deg] Coordinate increment at reference point  \n",
       "CUNIT1  = 'deg'                / Units of coordinate increment and value        \n",
       "CUNIT2  = 'deg'                / Units of coordinate increment and value        \n",
       "CTYPE1  = 'RA---TAN-SIP'       / TAN (gnomonic) projection + SIP distortions    \n",
       "CTYPE2  = 'DEC--TAN-SIP'       / TAN (gnomonic) projection + SIP distortions    \n",
       "CRVAL1  =                  0.0 / [deg] Coordinate value at reference point      \n",
       "CRVAL2  =                -90.0 / [deg] Coordinate value at reference point      \n",
       "LONPOLE =                180.0 / [deg] Native longitude of celestial pole       \n",
       "LATPOLE =                -90.0 / [deg] Native latitude of celestial pole        \n",
       "RADESYS = 'ICRS'               / Equatorial coordinate system                   \n",
       "A_ORDER =                    2                                                  \n",
       "A_0_2   =            1.569E-05                                                  \n",
       "A_1_1   =            5.232E-05                                                  \n",
       "A_2_0   =             3.31E-05                                                  \n",
       "B_ORDER =                    2                                                  \n",
       "B_0_2   =            4.172E-05                                                  \n",
       "B_1_1   =            2.213E-05                                                  \n",
       "B_2_0   = -9.8190000000000E-07                                                  "
      ]
     },
     "execution_count": 11,
     "metadata": {},
     "output_type": "execute_result"
    }
   ],
   "source": [
    "header = w.to_header()\n",
    "header['A_ORDER'] = 2\n",
    "header['A_0_2'] = 1.569E-05\n",
    "header['A_1_1'] = 5.232E-05\n",
    "header['A_2_0 '] = 3.31E-05\n",
    "header['B_ORDER'] = 2\n",
    "header['B_0_2'] = 4.172E-05\n",
    "header['B_1_1'] = 2.213E-05\n",
    "header['B_2_0'] = -9.819E-07\n",
    "header"
   ]
  },
  {
   "cell_type": "code",
   "execution_count": 12,
   "metadata": {
    "collapsed": false
   },
   "outputs": [],
   "source": [
    "ack_wcs = wcs.WCS(header)"
   ]
  },
  {
   "cell_type": "code",
   "execution_count": 13,
   "metadata": {
    "collapsed": false
   },
   "outputs": [
    {
     "data": {
      "text/plain": [
       "array([[ 267.9574041 ,  -74.60644745],\n",
       "       [ 276.50451212,  -72.9804911 ],\n",
       "       [ 287.68331184,  -70.8852835 ]])"
      ]
     },
     "execution_count": 13,
     "metadata": {},
     "output_type": "execute_result"
    }
   ],
   "source": [
    "ack_wcs.all_pix2world(pixcrd, 1)"
   ]
  },
  {
   "cell_type": "code",
   "execution_count": 15,
   "metadata": {
    "collapsed": false
   },
   "outputs": [
    {
     "data": {
      "text/plain": [
       "WCSAXES =                    2 / Number of coordinate axes                      \n",
       "CRPIX1  =              -234.75 / Pixel coordinate of reference point            \n",
       "CRPIX2  =               8.3393 / Pixel coordinate of reference point            \n",
       "CDELT1  =            -0.066667 / [deg] Coordinate increment at reference point  \n",
       "CDELT2  =             0.066667 / [deg] Coordinate increment at reference point  \n",
       "CUNIT1  = 'deg'                / Units of coordinate increment and value        \n",
       "CUNIT2  = 'deg'                / Units of coordinate increment and value        \n",
       "CTYPE1  = 'RA---TAN-SIP'       / TAN (gnomonic) projection + SIP distortions    \n",
       "CTYPE2  = 'DEC--TAN-SIP'       / TAN (gnomonic) projection + SIP distortions    \n",
       "CRVAL1  =                  0.0 / [deg] Coordinate value at reference point      \n",
       "CRVAL2  =                -90.0 / [deg] Coordinate value at reference point      \n",
       "LONPOLE =                180.0 / [deg] Native longitude of celestial pole       \n",
       "LATPOLE =                -90.0 / [deg] Native latitude of celestial pole        \n",
       "RADESYS = 'ICRS'               / Equatorial coordinate system                   \n",
       "A_1_1   =            5.232E-05                                                  \n",
       "B_1_1   =            2.213E-05                                                  \n",
       "B_ORDER =                    2                                                  \n",
       "B_2_0   = -9.8190000000000E-07                                                  \n",
       "A_0_2   =            1.569E-05                                                  \n",
       "A_2_0   =             3.31E-05                                                  \n",
       "A_ORDER =                    2                                                  \n",
       "B_0_2   =            4.172E-05                                                  "
      ]
     },
     "execution_count": 15,
     "metadata": {},
     "output_type": "execute_result"
    }
   ],
   "source": [
    "ack_wcs.to_header(relax=True)"
   ]
  },
  {
   "cell_type": "code",
   "execution_count": 34,
   "metadata": {
    "collapsed": false
   },
   "outputs": [],
   "source": [
    "zs = np.zeros((3,3))\n",
    "ap = np.random.randn(9).reshape((3,3))\n",
    "bp = np.random.randn(9).reshape((3,3))\n",
    "sip = Sip(ap, bp, zs, zs, [0,0])\n",
    "w.sip = sip"
   ]
  },
  {
   "cell_type": "code",
   "execution_count": 37,
   "metadata": {
    "collapsed": false
   },
   "outputs": [
    {
     "name": "stdout",
     "output_type": "stream",
     "text": [
      "[[ 267.96547027  -74.71339959]\n",
      " [ 276.53931377  -73.14096583]\n",
      " [ 287.77080792  -71.12879   ]]\n",
      "[[ 267.96516021  -74.72117755]\n",
      " [  93.79086031  -22.73700606]\n",
      " [  96.98209897   -2.96568793]]\n"
     ]
    }
   ],
   "source": [
    "print(w.wcs_pix2world(pixcrd, 1))\n",
    "print(w.all_pix2world(pixcrd, 1))\n",
    "\n",
    "world_coords = w.all_pix2world(pixcrd, 1)"
   ]
  },
  {
   "cell_type": "code",
   "execution_count": 40,
   "metadata": {
    "collapsed": false
   },
   "outputs": [
    {
     "name": "stdout",
     "output_type": "stream",
     "text": [
      "[[ -1.25345657e-01   3.18150303e-03]\n",
      " [ -2.28108055e+03  -1.27249962e+02]\n",
      " [ -1.67007516e+04  -2.00820962e+03]]\n"
     ]
    }
   ],
   "source": [
    "print(w.wcs_world2pix(world_coords, 1))\n"
   ]
  },
  {
   "cell_type": "code",
   "execution_count": 42,
   "metadata": {
    "collapsed": false
   },
   "outputs": [
    {
     "data": {
      "text/plain": [
       "WCSAXES =                    2 / Number of coordinate axes                      \n",
       "CRPIX1  =              -234.75 / Pixel coordinate of reference point            \n",
       "CRPIX2  =               8.3393 / Pixel coordinate of reference point            \n",
       "CDELT1  =            -0.066667 / [deg] Coordinate increment at reference point  \n",
       "CDELT2  =             0.066667 / [deg] Coordinate increment at reference point  \n",
       "CUNIT1  = 'deg'                / Units of coordinate increment and value        \n",
       "CUNIT2  = 'deg'                / Units of coordinate increment and value        \n",
       "CTYPE1  = 'RA---TAN-SIP'       / TAN (gnomonic) projection + SIP distortions    \n",
       "CTYPE2  = 'DEC--TAN-SIP'       / TAN (gnomonic) projection + SIP distortions    \n",
       "CRVAL1  =                  0.0 / [deg] Coordinate value at reference point      \n",
       "CRVAL2  =                -90.0 / [deg] Coordinate value at reference point      \n",
       "LONPOLE =                180.0 / [deg] Native longitude of celestial pole       \n",
       "LATPOLE =                -90.0 / [deg] Native latitude of celestial pole        \n",
       "RADESYS = 'ICRS'               / Equatorial coordinate system                   \n",
       "A_1_1   = -0.09778416731123819                                                  \n",
       "A_1_0   =   -1.090910229330274                                                  \n",
       "B_1_0   =  -0.2055361825557048                                                  \n",
       "B_1_1   =  -0.3526226583684912                                                  \n",
       "B_ORDER =                    2                                                  \n",
       "B_2_0   =    1.131483866504077                                                  \n",
       "BP_ORDER=                    2                                                  \n",
       "A_0_0   =  -0.1253456567031604                                                  \n",
       "A_0_1   =   0.6349990554843805                                                  \n",
       "A_0_2   =   -1.887361900239634                                                  \n",
       "A_2_0   =    0.888240316882414                                                  \n",
       "A_ORDER =                    2                                                  \n",
       "AP_ORDER=                    2                                                  \n",
       "B_0_2   =  -0.2667132665661683                                                  \n",
       "B_0_1   =   -2.771820034979269                                                  \n",
       "B_0_0   = 0.003181503026934194                                                  "
      ]
     },
     "execution_count": 42,
     "metadata": {},
     "output_type": "execute_result"
    }
   ],
   "source": [
    "w.to_header(relax=True)"
   ]
  },
  {
   "cell_type": "code",
   "execution_count": 44,
   "metadata": {
    "collapsed": false
   },
   "outputs": [],
   "source": [
    "# Let's try reading a dummy header\n",
    "hdulist = fits.open('m106.0014b.fits')"
   ]
  },
  {
   "cell_type": "code",
   "execution_count": 43,
   "metadata": {
    "collapsed": false
   },
   "outputs": [
    {
     "data": {
      "text/plain": [
       "SIMPLE  =                    T / conforms to FITS standard                      \n",
       "BITPIX  =                    8 / array data type                                \n",
       "NAXIS   =                    0 / number of array dimensions                     \n",
       "EXTEND  =                    T                                                  "
      ]
     },
     "execution_count": 43,
     "metadata": {},
     "output_type": "execute_result"
    }
   ],
   "source": [
    "hdu = fits.PrimaryHDU()\n",
    "hdu.header"
   ]
  },
  {
   "cell_type": "code",
   "execution_count": 109,
   "metadata": {
    "collapsed": false
   },
   "outputs": [
    {
     "data": {
      "text/plain": [
       "WCSAXES =                    2 / Number of coordinate axes                      \n",
       "CRPIX1  =              -234.75 / Pixel coordinate of reference point            \n",
       "CRPIX2  =               8.3393 / Pixel coordinate of reference point            \n",
       "CDELT1  =            -0.066667 / [deg] Coordinate increment at reference point  \n",
       "CDELT2  =             0.066667 / [deg] Coordinate increment at reference point  \n",
       "CUNIT1  = 'deg'                / Units of coordinate increment and value        \n",
       "CUNIT2  = 'deg'                / Units of coordinate increment and value        \n",
       "CTYPE1  = 'RA---AZP-SIP'       / TAN (gnomonic) projection + SIP distortions    \n",
       "CTYPE2  = 'DEC--AZP-SIP'       / TAN (gnomonic) projection + SIP distortions    \n",
       "CRVAL1  =                  0.0 / [deg] Coordinate value at reference point      \n",
       "CRVAL2  =                -90.0 / [deg] Coordinate value at reference point      \n",
       "PV1_0   =                  0.0 / [deg] Coordinate value at reference point      \n",
       "PV1_1   =                  0.0 / [deg] Native longitude of the reference point  \n",
       "LONPOLE =                180.0 / [deg] Native longitude of celestial pole       \n",
       "LATPOLE =                -90.0 / [deg] Native latitude of celestial pole        \n",
       "RADESYS = 'ICRS'               / Equatorial coordinate system                   "
      ]
     },
     "execution_count": 109,
     "metadata": {},
     "output_type": "execute_result"
    }
   ],
   "source": [
    "w = wcs.WCS(naxis=2)\n",
    "# OMFG, you can't write WCS as ALT-AZ! \n",
    "w.wcs.crpix = [-234.75, 8.3393]\n",
    "w.wcs.cdelt = numpy.array([-0.066667, 0.066667])\n",
    "w.wcs.crval = [0, -90]\n",
    "w.wcs.ctype = [\"RA---AZP-SIP\", \"DEC--AZP-SIP\"]\n",
    "w.wcs.set_pv([(1,0, 0), (1,1,0)]) #, (2,0, 0), (2,1,0)])\n",
    "#w.wcs.ctype = [\"RA---AIR\", \"DEC--AIR\"]\n",
    "#w.wcs.set_pv([(2, 1, 45.0)])\n",
    "\n",
    "w.to_header()"
   ]
  },
  {
   "cell_type": "code",
   "execution_count": 116,
   "metadata": {
    "collapsed": false
   },
   "outputs": [
    {
     "data": {
      "text/plain": [
       "array([[ 1.,  0.],\n",
       "       [ 0.,  1.]])"
      ]
     },
     "execution_count": 116,
     "metadata": {},
     "output_type": "execute_result"
    }
   ],
   "source": [
    "w.wcs.pc = np.array([1., 0., 0.,1.]).reshape((2,2))\n",
    "w.wcs.pc"
   ]
  },
  {
   "cell_type": "code",
   "execution_count": 111,
   "metadata": {
    "collapsed": false
   },
   "outputs": [
    {
     "name": "stdout",
     "output_type": "stream",
     "text": [
      "[[ 267.96547027  -74.71339959]\n",
      " [ 276.53931377  -73.14096583]\n",
      " [ 287.77080792  -71.12879   ]]\n"
     ]
    }
   ],
   "source": [
    "print(w.wcs_pix2world(pixcrd, 1))\n"
   ]
  },
  {
   "cell_type": "code",
   "execution_count": 48,
   "metadata": {
    "collapsed": false
   },
   "outputs": [
    {
     "data": {
      "text/plain": [
       "<bound method WCS.to_header of WCS Keywords\n",
       "\n",
       "Number of WCS axes: 2\n",
       "CTYPE : 'RA---AZP-SIP'  'DEC--AZP-SIP'  \n",
       "CRVAL : 0.0  -90.0  \n",
       "CRPIX : -234.75  8.3392999999999997  \n",
       "PC1_1 PC1_2  : 1.0  0.0  \n",
       "PC2_1 PC2_2  : 0.0  1.0  \n",
       "CDELT : -0.066667000000000004  0.066667000000000004  \n",
       "NAXIS    : 0 0>"
      ]
     },
     "execution_count": 48,
     "metadata": {},
     "output_type": "execute_result"
    }
   ],
   "source": [
    "w.to_header"
   ]
  },
  {
   "cell_type": "code",
   "execution_count": 58,
   "metadata": {
    "collapsed": false
   },
   "outputs": [
    {
     "name": "stdout",
     "output_type": "stream",
     "text": [
      "Help on built-in function set_pv:\n",
      "\n",
      "set_pv(...)\n",
      "    set_pv(pv)\n",
      "    \n",
      "    Sets ``PVi_ma`` keywords for each *i* and *m*.\n",
      "    \n",
      "    Parameters\n",
      "    ----------\n",
      "    pv : list of tuples\n",
      "    \n",
      "        The input must be a sequence of tuples of the form (*i*, *m*,\n",
      "        *value*):\n",
      "    \n",
      "        - *i*: int.  Axis number, as in ``PVi_ma``, (i.e. 1-relative)\n",
      "    \n",
      "        - *m*: int.  Parameter number, as in ``PVi_ma``, (i.e. 0-relative)\n",
      "    \n",
      "        - *value*: float.  Parameter value.\n",
      "    \n",
      "    See also\n",
      "    --------\n",
      "    astropy.wcs.Wcsprm.get_pv\n",
      "\n"
     ]
    }
   ],
   "source": [
    "help(w.wcs.set_pv)"
   ]
  },
  {
   "cell_type": "code",
   "execution_count": null,
   "metadata": {
    "collapsed": true
   },
   "outputs": [],
   "source": []
  }
 ],
 "metadata": {
  "anaconda-cloud": {},
  "kernelspec": {
   "display_name": "Python [conda root]",
   "language": "python",
   "name": "conda-root-py"
  },
  "language_info": {
   "codemirror_mode": {
    "name": "ipython",
    "version": 2
   },
   "file_extension": ".py",
   "mimetype": "text/x-python",
   "name": "python",
   "nbconvert_exporter": "python",
   "pygments_lexer": "ipython2",
   "version": "2.7.12"
  }
 },
 "nbformat": 4,
 "nbformat_minor": 1
}
