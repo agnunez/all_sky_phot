{
 "cells": [
  {
   "cell_type": "markdown",
   "metadata": {},
   "source": [
    "Run forced photometry on three full days of all-sky data"
   ]
  },
  {
   "cell_type": "code",
   "execution_count": 15,
   "metadata": {
    "collapsed": true
   },
   "outputs": [],
   "source": [
    "%matplotlib inline\n",
    "import numpy as np\n",
    "import matplotlib.pylab as plt\n",
    "from lsst.all_sky_phot.wcs import Fisheye, load_fisheye\n",
    "from lsst.all_sky_phot import forced_phot, readYBC, readcr2, lsst_earth_location, radec2altaz\n",
    "import healpy as hp\n",
    "import glob\n",
    "import photutils as phu\n",
    "from astropy.table import Table, hstack"
   ]
  },
  {
   "cell_type": "code",
   "execution_count": 2,
   "metadata": {},
   "outputs": [
    {
     "name": "stderr",
     "output_type": "stream",
     "text": [
      "WARNING: FITSFixedWarning: The WCS transformation has more axes (2) than the image it is associated with (0) [astropy.wcs.wcs]\n"
     ]
    }
   ],
   "source": [
    "# Load up the WCS we fit in Full_WCS_fit (generated in notebook Full_WCS_fit)\n",
    "wcs = load_fisheye('fisheye_wcs.npz')\n",
    "# Load the Yale Bright Star catalog\n",
    "ybc = readYBC()"
   ]
  },
  {
   "cell_type": "code",
   "execution_count": 3,
   "metadata": {},
   "outputs": [
    {
     "name": "stderr",
     "output_type": "stream",
     "text": [
      "/Users/yoachim/lsstp3/DarwinX86/miniconda3/4.2.12.lsst1/lib/python3.6/site-packages/astropy/coordinates/angles.py:643: RuntimeWarning: invalid value encountered in less\n",
      "  if np.any(self_angle < wrap_angle_floor) or np.any(self_angle >= wrap_angle):\n",
      "/Users/yoachim/lsstp3/DarwinX86/miniconda3/4.2.12.lsst1/lib/python3.6/site-packages/astropy/coordinates/angles.py:643: RuntimeWarning: invalid value encountered in greater_equal\n",
      "  if np.any(self_angle < wrap_angle_floor) or np.any(self_angle >= wrap_angle):\n",
      "/Users/yoachim/lsstp3/DarwinX86/miniconda3/4.2.12.lsst1/lib/python3.6/site-packages/astropy/coordinates/angles.py:526: RuntimeWarning: invalid value encountered in less\n",
      "  if np.any(angles.value < lower) or np.any(angles.value > upper):\n",
      "/Users/yoachim/lsstp3/DarwinX86/miniconda3/4.2.12.lsst1/lib/python3.6/site-packages/astropy/coordinates/angles.py:526: RuntimeWarning: invalid value encountered in greater\n",
      "  if np.any(angles.value < lower) or np.any(angles.value > upper):\n",
      "/Users/yoachim/lsstp3/DarwinX86/miniconda3/4.2.12.lsst1/lib/python3.6/site-packages/astropy/coordinates/angles.py:643: RuntimeWarning: invalid value encountered in less\n",
      "  if np.any(self_angle < wrap_angle_floor) or np.any(self_angle >= wrap_angle):\n",
      "/Users/yoachim/lsstp3/DarwinX86/miniconda3/4.2.12.lsst1/lib/python3.6/site-packages/astropy/coordinates/angles.py:643: RuntimeWarning: invalid value encountered in greater_equal\n",
      "  if np.any(self_angle < wrap_angle_floor) or np.any(self_angle >= wrap_angle):\n",
      "/Users/yoachim/lsstp3/DarwinX86/miniconda3/4.2.12.lsst1/lib/python3.6/site-packages/astropy/coordinates/angles.py:526: RuntimeWarning: invalid value encountered in less\n",
      "  if np.any(angles.value < lower) or np.any(angles.value > upper):\n",
      "/Users/yoachim/lsstp3/DarwinX86/miniconda3/4.2.12.lsst1/lib/python3.6/site-packages/astropy/coordinates/angles.py:526: RuntimeWarning: invalid value encountered in greater\n",
      "  if np.any(angles.value < lower) or np.any(angles.value > upper):\n",
      "/Users/yoachim/lsstp3/DarwinX86/miniconda3/4.2.12.lsst1/lib/python3.6/site-packages/ipykernel_launcher.py:14: RuntimeWarning: invalid value encountered in greater\n",
      "  \n",
      "/Users/yoachim/gitRepos/all_sky_phot/python/lsst/all_sky_phot/forced_phot.py:94: RuntimeWarning: divide by zero encountered in log10\n",
      "  phot_table['residual_aperture_mag'] = -2.5*np.log10(final_sum) + zp\n",
      "/Users/yoachim/gitRepos/all_sky_phot/python/lsst/all_sky_phot/forced_phot.py:94: RuntimeWarning: invalid value encountered in log10\n",
      "  phot_table['residual_aperture_mag'] = -2.5*np.log10(final_sum) + zp\n",
      "/Users/yoachim/lsstp3/DarwinX86/miniconda3/4.2.12.lsst1/lib/python3.6/site-packages/astropy/coordinates/angles.py:643: RuntimeWarning: invalid value encountered in less\n",
      "  if np.any(self_angle < wrap_angle_floor) or np.any(self_angle >= wrap_angle):\n",
      "/Users/yoachim/lsstp3/DarwinX86/miniconda3/4.2.12.lsst1/lib/python3.6/site-packages/astropy/coordinates/angles.py:643: RuntimeWarning: invalid value encountered in greater_equal\n",
      "  if np.any(self_angle < wrap_angle_floor) or np.any(self_angle >= wrap_angle):\n",
      "/Users/yoachim/lsstp3/DarwinX86/miniconda3/4.2.12.lsst1/lib/python3.6/site-packages/astropy/coordinates/angles.py:526: RuntimeWarning: invalid value encountered in less\n",
      "  if np.any(angles.value < lower) or np.any(angles.value > upper):\n",
      "/Users/yoachim/lsstp3/DarwinX86/miniconda3/4.2.12.lsst1/lib/python3.6/site-packages/astropy/coordinates/angles.py:526: RuntimeWarning: invalid value encountered in greater\n",
      "  if np.any(angles.value < lower) or np.any(angles.value > upper):\n",
      "/Users/yoachim/lsstp3/DarwinX86/miniconda3/4.2.12.lsst1/lib/python3.6/site-packages/ipykernel_launcher.py:14: RuntimeWarning: invalid value encountered in greater\n",
      "  \n",
      "/Users/yoachim/gitRepos/all_sky_phot/python/lsst/all_sky_phot/forced_phot.py:94: RuntimeWarning: divide by zero encountered in log10\n",
      "  phot_table['residual_aperture_mag'] = -2.5*np.log10(final_sum) + zp\n",
      "/Users/yoachim/gitRepos/all_sky_phot/python/lsst/all_sky_phot/forced_phot.py:94: RuntimeWarning: invalid value encountered in log10\n",
      "  phot_table['residual_aperture_mag'] = -2.5*np.log10(final_sum) + zp\n",
      "/Users/yoachim/lsstp3/DarwinX86/miniconda3/4.2.12.lsst1/lib/python3.6/site-packages/astropy/coordinates/angles.py:643: RuntimeWarning: invalid value encountered in less\n",
      "  if np.any(self_angle < wrap_angle_floor) or np.any(self_angle >= wrap_angle):\n",
      "/Users/yoachim/lsstp3/DarwinX86/miniconda3/4.2.12.lsst1/lib/python3.6/site-packages/astropy/coordinates/angles.py:643: RuntimeWarning: invalid value encountered in greater_equal\n",
      "  if np.any(self_angle < wrap_angle_floor) or np.any(self_angle >= wrap_angle):\n",
      "/Users/yoachim/lsstp3/DarwinX86/miniconda3/4.2.12.lsst1/lib/python3.6/site-packages/astropy/coordinates/angles.py:526: RuntimeWarning: invalid value encountered in less\n",
      "  if np.any(angles.value < lower) or np.any(angles.value > upper):\n",
      "/Users/yoachim/lsstp3/DarwinX86/miniconda3/4.2.12.lsst1/lib/python3.6/site-packages/astropy/coordinates/angles.py:526: RuntimeWarning: invalid value encountered in greater\n",
      "  if np.any(angles.value < lower) or np.any(angles.value > upper):\n",
      "/Users/yoachim/lsstp3/DarwinX86/miniconda3/4.2.12.lsst1/lib/python3.6/site-packages/ipykernel_launcher.py:14: RuntimeWarning: invalid value encountered in greater\n",
      "  \n",
      "/Users/yoachim/gitRepos/all_sky_phot/python/lsst/all_sky_phot/forced_phot.py:94: RuntimeWarning: divide by zero encountered in log10\n",
      "  phot_table['residual_aperture_mag'] = -2.5*np.log10(final_sum) + zp\n",
      "/Users/yoachim/gitRepos/all_sky_phot/python/lsst/all_sky_phot/forced_phot.py:94: RuntimeWarning: invalid value encountered in log10\n",
      "  phot_table['residual_aperture_mag'] = -2.5*np.log10(final_sum) + zp\n",
      "/Users/yoachim/lsstp3/DarwinX86/miniconda3/4.2.12.lsst1/lib/python3.6/site-packages/astropy/coordinates/angles.py:643: RuntimeWarning: invalid value encountered in less\n",
      "  if np.any(self_angle < wrap_angle_floor) or np.any(self_angle >= wrap_angle):\n",
      "/Users/yoachim/lsstp3/DarwinX86/miniconda3/4.2.12.lsst1/lib/python3.6/site-packages/astropy/coordinates/angles.py:643: RuntimeWarning: invalid value encountered in greater_equal\n",
      "  if np.any(self_angle < wrap_angle_floor) or np.any(self_angle >= wrap_angle):\n",
      "/Users/yoachim/lsstp3/DarwinX86/miniconda3/4.2.12.lsst1/lib/python3.6/site-packages/astropy/coordinates/angles.py:526: RuntimeWarning: invalid value encountered in less\n",
      "  if np.any(angles.value < lower) or np.any(angles.value > upper):\n",
      "/Users/yoachim/lsstp3/DarwinX86/miniconda3/4.2.12.lsst1/lib/python3.6/site-packages/astropy/coordinates/angles.py:526: RuntimeWarning: invalid value encountered in greater\n",
      "  if np.any(angles.value < lower) or np.any(angles.value > upper):\n",
      "/Users/yoachim/lsstp3/DarwinX86/miniconda3/4.2.12.lsst1/lib/python3.6/site-packages/ipykernel_launcher.py:14: RuntimeWarning: invalid value encountered in greater\n",
      "  \n",
      "/Users/yoachim/gitRepos/all_sky_phot/python/lsst/all_sky_phot/forced_phot.py:94: RuntimeWarning: divide by zero encountered in log10\n",
      "  phot_table['residual_aperture_mag'] = -2.5*np.log10(final_sum) + zp\n",
      "/Users/yoachim/gitRepos/all_sky_phot/python/lsst/all_sky_phot/forced_phot.py:94: RuntimeWarning: invalid value encountered in log10\n",
      "  phot_table['residual_aperture_mag'] = -2.5*np.log10(final_sum) + zp\n",
      "/Users/yoachim/lsstp3/DarwinX86/miniconda3/4.2.12.lsst1/lib/python3.6/site-packages/astropy/coordinates/angles.py:643: RuntimeWarning: invalid value encountered in less\n",
      "  if np.any(self_angle < wrap_angle_floor) or np.any(self_angle >= wrap_angle):\n",
      "/Users/yoachim/lsstp3/DarwinX86/miniconda3/4.2.12.lsst1/lib/python3.6/site-packages/astropy/coordinates/angles.py:643: RuntimeWarning: invalid value encountered in greater_equal\n",
      "  if np.any(self_angle < wrap_angle_floor) or np.any(self_angle >= wrap_angle):\n",
      "/Users/yoachim/lsstp3/DarwinX86/miniconda3/4.2.12.lsst1/lib/python3.6/site-packages/astropy/coordinates/angles.py:526: RuntimeWarning: invalid value encountered in less\n",
      "  if np.any(angles.value < lower) or np.any(angles.value > upper):\n",
      "/Users/yoachim/lsstp3/DarwinX86/miniconda3/4.2.12.lsst1/lib/python3.6/site-packages/astropy/coordinates/angles.py:526: RuntimeWarning: invalid value encountered in greater\n",
      "  if np.any(angles.value < lower) or np.any(angles.value > upper):\n",
      "/Users/yoachim/lsstp3/DarwinX86/miniconda3/4.2.12.lsst1/lib/python3.6/site-packages/ipykernel_launcher.py:14: RuntimeWarning: invalid value encountered in greater\n",
      "  \n"
     ]
    },
    {
     "name": "stderr",
     "output_type": "stream",
     "text": [
      "/Users/yoachim/gitRepos/all_sky_phot/python/lsst/all_sky_phot/forced_phot.py:94: RuntimeWarning: divide by zero encountered in log10\n",
      "  phot_table['residual_aperture_mag'] = -2.5*np.log10(final_sum) + zp\n",
      "/Users/yoachim/gitRepos/all_sky_phot/python/lsst/all_sky_phot/forced_phot.py:94: RuntimeWarning: invalid value encountered in log10\n",
      "  phot_table['residual_aperture_mag'] = -2.5*np.log10(final_sum) + zp\n",
      "/Users/yoachim/lsstp3/DarwinX86/miniconda3/4.2.12.lsst1/lib/python3.6/site-packages/astropy/coordinates/angles.py:643: RuntimeWarning: invalid value encountered in less\n",
      "  if np.any(self_angle < wrap_angle_floor) or np.any(self_angle >= wrap_angle):\n",
      "/Users/yoachim/lsstp3/DarwinX86/miniconda3/4.2.12.lsst1/lib/python3.6/site-packages/astropy/coordinates/angles.py:643: RuntimeWarning: invalid value encountered in greater_equal\n",
      "  if np.any(self_angle < wrap_angle_floor) or np.any(self_angle >= wrap_angle):\n",
      "/Users/yoachim/lsstp3/DarwinX86/miniconda3/4.2.12.lsst1/lib/python3.6/site-packages/astropy/coordinates/angles.py:526: RuntimeWarning: invalid value encountered in less\n",
      "  if np.any(angles.value < lower) or np.any(angles.value > upper):\n",
      "/Users/yoachim/lsstp3/DarwinX86/miniconda3/4.2.12.lsst1/lib/python3.6/site-packages/astropy/coordinates/angles.py:526: RuntimeWarning: invalid value encountered in greater\n",
      "  if np.any(angles.value < lower) or np.any(angles.value > upper):\n",
      "/Users/yoachim/lsstp3/DarwinX86/miniconda3/4.2.12.lsst1/lib/python3.6/site-packages/ipykernel_launcher.py:14: RuntimeWarning: invalid value encountered in greater\n",
      "  \n",
      "/Users/yoachim/gitRepos/all_sky_phot/python/lsst/all_sky_phot/forced_phot.py:94: RuntimeWarning: divide by zero encountered in log10\n",
      "  phot_table['residual_aperture_mag'] = -2.5*np.log10(final_sum) + zp\n",
      "/Users/yoachim/gitRepos/all_sky_phot/python/lsst/all_sky_phot/forced_phot.py:94: RuntimeWarning: invalid value encountered in log10\n",
      "  phot_table['residual_aperture_mag'] = -2.5*np.log10(final_sum) + zp\n"
     ]
    }
   ],
   "source": [
    "dirs = ['ut012516', 'ut012616', 'ut012716']\n",
    "zp = 0.\n",
    "final_table = None\n",
    "hpmaps = []\n",
    "mjds = []\n",
    "\n",
    "for direc in dirs:\n",
    "    files = glob.glob(direc +'/*.long.cr2')\n",
    "    for filename in files:\n",
    "        im, header = readcr2(filename)\n",
    "        sum_image = np.sum(im, axis=2).astype(float)\n",
    "        \n",
    "        alt_cat, az_cat = radec2altaz(ybc['RA'], ybc['Dec'], header['mjd'])\n",
    "        above = np.where(alt_cat > 15.)\n",
    "        phot_table, hpmap = forced_phot(sum_image, wcs, zp, alt_cat[above], az_cat[above],\n",
    "                   ybc['Vmag'].values[above], ybc['HR'].values[above], return_table=True,\n",
    "                                       mjd=header['mjd'])\n",
    "        if final_table is None:\n",
    "            final_table = phot_table\n",
    "        else:\n",
    "            final_table = hstack(final_table, phot_table)\n",
    "        hpmaps.append(hpmap)\n",
    "        mjds.append(header['mjd'])\n"
   ]
  },
  {
   "cell_type": "code",
   "execution_count": 17,
   "metadata": {},
   "outputs": [],
   "source": [
    "# convert things to numpy arrays\n",
    "mjds = np.array(mjds)\n",
    "hpmaps = np.array(hpmaps)\n",
    "\n",
    "# Need to remove \"mixin\" columns\n",
    "#final_table.remove_columns(['xcenter', 'ycenter'])\n",
    "\n",
    "np.savez('forced_phot_results/trans_maps.npz', mjds=mjds, hpmaps=hpmaps)\n",
    "final_table.write('photometry.hdf5', path='forced_phot_results', format='hdf5')"
   ]
  },
  {
   "cell_type": "code",
   "execution_count": 22,
   "metadata": {},
   "outputs": [],
   "source": [
    "# back = Table.read('photometry.hdf5', format='hdf5', path='forced_phot_results')"
   ]
  },
  {
   "cell_type": "code",
   "execution_count": null,
   "metadata": {},
   "outputs": [],
   "source": []
  },
  {
   "cell_type": "code",
   "execution_count": null,
   "metadata": {
    "collapsed": true
   },
   "outputs": [],
   "source": []
  }
 ],
 "metadata": {
  "kernelspec": {
   "display_name": "Python 3",
   "language": "python",
   "name": "python3"
  },
  "language_info": {
   "codemirror_mode": {
    "name": "ipython",
    "version": 3
   },
   "file_extension": ".py",
   "mimetype": "text/x-python",
   "name": "python",
   "nbconvert_exporter": "python",
   "pygments_lexer": "ipython3",
   "version": "3.6.2"
  }
 },
 "nbformat": 4,
 "nbformat_minor": 2
}
